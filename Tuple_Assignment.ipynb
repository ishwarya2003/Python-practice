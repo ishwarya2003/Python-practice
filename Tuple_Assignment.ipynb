{
 "cells": [
  {
   "cell_type": "markdown",
   "id": "92952961",
   "metadata": {},
   "source": [
    "Find elements frequency in Tuple"
   ]
  },
  {
   "cell_type": "code",
   "execution_count": 11,
   "id": "c4fd47c3",
   "metadata": {},
   "outputs": [
    {
     "data": {
      "text/plain": [
       "{4: 2, 5: 3, 6: 2}"
      ]
     },
     "execution_count": 11,
     "metadata": {},
     "output_type": "execute_result"
    }
   ],
   "source": [
    "t=(4,5,4,5,6,6,5)\n",
    "res=dict()\n",
    "t1=list(t)\n",
    "for i in t1:\n",
    "    res[i]=t.count(i)\n",
    "res"
   ]
  },
  {
   "cell_type": "markdown",
   "id": "c47177f1",
   "metadata": {},
   "source": [
    "Python program to sort a list of tuples alphabetically\n",
    "\n"
   ]
  },
  {
   "cell_type": "code",
   "execution_count": 12,
   "id": "9aa4f16a",
   "metadata": {},
   "outputs": [
    {
     "data": {
      "text/plain": [
       "[('aa', 30), ('aaaa', 28), ('bab', 29), ('bb', 21), ('csa', 'C')]"
      ]
     },
     "execution_count": 12,
     "metadata": {},
     "output_type": "execute_result"
    }
   ],
   "source": [
    "t=[(\"aaaa\",28),(\"aa\",30),(\"bab\",29),(\"bb\",21),(\"csa\",\"C\")]\n",
    "t.sort(key=lambda x:x[0])\n",
    "t\n"
   ]
  },
  {
   "cell_type": "markdown",
   "id": "54a1e799",
   "metadata": {},
   "source": [
    "Write a Python program to calculate the average value of the numbers in a given tuple of tuples"
   ]
  },
  {
   "cell_type": "code",
   "execution_count": 13,
   "id": "b40a0092",
   "metadata": {},
   "outputs": [
    {
     "name": "stdout",
     "output_type": "stream",
     "text": [
      "Original Tuple: ((1, 1, -5), (30, -15, 56), (81, -60, -39), (-10, 2, 3))\n",
      "Average value of the numbers of the side tuple of tuples: [25.5, -18.0, 3.75]\n"
     ]
    }
   ],
   "source": [
    "def average (t):\n",
    "    result=[sum(x)/len(x) for x in zip(*t)]\n",
    "    return result\n",
    "t=((1,1,-5),(30,-15,56),(81,-60,-39),(-10,2,3))\n",
    "print(\"Original Tuple:\",t)\n",
    "print(\"Average value of the numbers of the side tuple of tuples:\",average(t))"
   ]
  },
  {
   "cell_type": "code",
   "execution_count": null,
   "id": "cc714027",
   "metadata": {},
   "outputs": [],
   "source": []
  }
 ],
 "metadata": {
  "kernelspec": {
   "display_name": "Python 3 (ipykernel)",
   "language": "python",
   "name": "python3"
  },
  "language_info": {
   "codemirror_mode": {
    "name": "ipython",
    "version": 3
   },
   "file_extension": ".py",
   "mimetype": "text/x-python",
   "name": "python",
   "nbconvert_exporter": "python",
   "pygments_lexer": "ipython3",
   "version": "3.9.13"
  }
 },
 "nbformat": 4,
 "nbformat_minor": 5
}
