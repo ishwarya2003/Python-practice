{
 "cells": [
  {
   "cell_type": "markdown",
   "id": "0a4489f0",
   "metadata": {},
   "source": [
    "Write a python program to convert a string to lower case"
   ]
  },
  {
   "cell_type": "code",
   "execution_count": 3,
   "id": "4af7acff",
   "metadata": {},
   "outputs": [
    {
     "data": {
      "text/plain": [
       "'welcome to innomatics research labs'"
      ]
     },
     "execution_count": 3,
     "metadata": {},
     "output_type": "execute_result"
    }
   ],
   "source": [
    "l=\"Welcome To Innomatics Research Labs\"\n",
    "l.lower()\n"
   ]
  },
  {
   "cell_type": "markdown",
   "id": "7579f31b",
   "metadata": {},
   "source": [
    "Write a python program to convert only odd indexed characters to lower case Ex: PYTHON"
   ]
  },
  {
   "cell_type": "code",
   "execution_count": 7,
   "id": "fc672a7f",
   "metadata": {},
   "outputs": [
    {
     "name": "stdout",
     "output_type": "stream",
     "text": [
      " PyThOn\n"
     ]
    }
   ],
   "source": [
    "x=\"PYTHON\"\n",
    "res=\" \"\n",
    "for i in range(len(x)):\n",
    "    if not i%2:\n",
    "        res=res+x[i].upper()\n",
    "    else:\n",
    "        res=res+x[i].lower()\n",
    "print(str(res))\n",
    "    "
   ]
  },
  {
   "cell_type": "markdown",
   "id": "5eeced84",
   "metadata": {},
   "source": [
    "Write a python program to convert only odd indexed characters to upper case Ex: python"
   ]
  },
  {
   "cell_type": "code",
   "execution_count": 8,
   "id": "ee43e624",
   "metadata": {},
   "outputs": [
    {
     "name": "stdout",
     "output_type": "stream",
     "text": [
      " pYtHoN\n"
     ]
    }
   ],
   "source": [
    "x=\"python\"\n",
    "res=\" \"\n",
    "for i in range(len(x)):\n",
    "    if not i%2:\n",
    "        res=res+x[i].lower()\n",
    "    else:\n",
    "        res=res+x[i].upper()\n",
    "print(str(res))\n"
   ]
  },
  {
   "cell_type": "markdown",
   "id": "713041c3",
   "metadata": {},
   "source": [
    "Write a python program to convert only even indexed characters to upper case Ex: python"
   ]
  },
  {
   "cell_type": "code",
   "execution_count": 9,
   "id": "410763b8",
   "metadata": {},
   "outputs": [
    {
     "name": "stdout",
     "output_type": "stream",
     "text": [
      " PyThOn\n"
     ]
    }
   ],
   "source": [
    "x=\"python\"\n",
    "res=\" \"\n",
    "for i in range(len(x)):\n",
    "    if i%2!=0:\n",
    "        res=res+x[i].lower()\n",
    "    else:\n",
    "        res=res+x[i].upper()\n",
    "print(str(res))"
   ]
  },
  {
   "cell_type": "markdown",
   "id": "5f46a899",
   "metadata": {},
   "source": [
    "Write a python program where you have different variable which contains your name, gender, age, phone number, father’s name and mother’s name. And by using this variable create a variable named bio-data where you will use all this variable Ex: print(bio-data)"
   ]
  },
  {
   "cell_type": "code",
   "execution_count": 11,
   "id": "b8b41e21",
   "metadata": {},
   "outputs": [
    {
     "name": "stdout",
     "output_type": "stream",
     "text": [
      "My name is Ishwarya, My age is 21, My phone no is 6303858197, My fathers name is lingaiah, My mothers name is Laxmi, "
     ]
    }
   ],
   "source": [
    "biodata={\"My name is\":\"Ishwarya\",\n",
    "         \"My age is\":21,\n",
    "         \"My phone no is\":6303858197,\n",
    "         \"My fathers name is\":\"lingaiah\",\n",
    "         \"My mothers name is\":\"Laxmi\"\n",
    "        }\n",
    "for i in biodata:\n",
    "    print(i,biodata[i],end=\", \")\n"
   ]
  },
  {
   "cell_type": "markdown",
   "id": "4a051e33",
   "metadata": {},
   "source": [
    "Write a python program to count how many times “@” occurred Ex: S@ndhy@"
   ]
  },
  {
   "cell_type": "code",
   "execution_count": 12,
   "id": "e3ccb338",
   "metadata": {},
   "outputs": [
    {
     "data": {
      "text/plain": [
       "2"
      ]
     },
     "execution_count": 12,
     "metadata": {},
     "output_type": "execute_result"
    }
   ],
   "source": [
    "x=\"S@ndhy@\"\n",
    "x.count('@')"
   ]
  },
  {
   "cell_type": "markdown",
   "id": "aee3793b",
   "metadata": {},
   "source": [
    "Write a python program to get only names from the string Ex: “name1.@gmail.com, name2.@gmail.com, name#3.@gmail.com”"
   ]
  },
  {
   "cell_type": "code",
   "execution_count": 13,
   "id": "eac67dab",
   "metadata": {},
   "outputs": [
    {
     "name": "stdout",
     "output_type": "stream",
     "text": [
      "Enter your ist email address: name.@gmail.com\n",
      "Enter your 2nd email address: name.@gmail.com\n",
      "Enter your 3rd email address: name.@gmail.com\n",
      "name.,name.,name.\n"
     ]
    }
   ],
   "source": [
    "s=input(\"Enter your ist email address: \")\n",
    "s1=input(\"Enter your 2nd email address: \")\n",
    "s2=input(\"Enter your 3rd email address: \")\n",
    "a=s.split(\"@\")\n",
    "b=s1.split(\"@\")\n",
    "c=s2.split(\"@\")\n",
    "print(a[0],b[0],c[0],sep=',')"
   ]
  },
  {
   "cell_type": "markdown",
   "id": "f5ca9b77",
   "metadata": {},
   "source": [
    "Write a program to remove vowels from the entire alphabets Ex: “abcdefghijklmnopqrstuvwxyz”"
   ]
  },
  {
   "cell_type": "code",
   "execution_count": 15,
   "id": "2976b2af",
   "metadata": {},
   "outputs": [
    {
     "name": "stdout",
     "output_type": "stream",
     "text": [
      "bcdfghjklmnpqrstvwxyz\n"
     ]
    }
   ],
   "source": [
    "string=\"abcdefghijklmnopqrstuvwxyz\"\n",
    "vowels=['a','e','i','o','u','A','E','I','O','U']\n",
    "result=\"\"\n",
    "for i in range(len(string)):\n",
    "    if string[i] not in vowels:\n",
    "        result=result+string[i]\n",
    "print(result)"
   ]
  },
  {
   "cell_type": "markdown",
   "id": "1db825e5",
   "metadata": {},
   "source": [
    "Find all occurrences of a substring in a given string by ignoring the case Ex: str1 = \"Welcome to Innomatics. innomatics awesome, isn't it?\""
   ]
  },
  {
   "cell_type": "code",
   "execution_count": 17,
   "id": "bc98fd0d",
   "metadata": {},
   "outputs": [
    {
     "name": "stdout",
     "output_type": "stream",
     "text": [
      "The innomatics count is: 2\n"
     ]
    }
   ],
   "source": [
    "s1=\"Welcome to Innomatics.innomatics awesome,isn't?\"\n",
    "s1=s1.lower()\n",
    "sub_str=\"innomatics\"\n",
    "count=s1.count(sub_str)\n",
    "print(\"The innomatics count is:\",count)"
   ]
  },
  {
   "cell_type": "code",
   "execution_count": null,
   "id": "ce31e310",
   "metadata": {},
   "outputs": [],
   "source": []
  }
 ],
 "metadata": {
  "kernelspec": {
   "display_name": "Python 3 (ipykernel)",
   "language": "python",
   "name": "python3"
  },
  "language_info": {
   "codemirror_mode": {
    "name": "ipython",
    "version": 3
   },
   "file_extension": ".py",
   "mimetype": "text/x-python",
   "name": "python",
   "nbconvert_exporter": "python",
   "pygments_lexer": "ipython3",
   "version": "3.9.13"
  }
 },
 "nbformat": 4,
 "nbformat_minor": 5
}
