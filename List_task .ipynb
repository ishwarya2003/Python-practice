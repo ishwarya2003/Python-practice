{
 "cells": [
  {
   "cell_type": "markdown",
   "id": "4300f4e1",
   "metadata": {},
   "source": [
    "Write a Python program to sum all the items and multiply all the items"
   ]
  },
  {
   "cell_type": "code",
   "execution_count": 2,
   "id": "4f330d84",
   "metadata": {},
   "outputs": [
    {
     "name": "stdout",
     "output_type": "stream",
     "text": [
      "enter first number: 10\n",
      "enter second number: 3\n",
      "ennter the third number: 22\n",
      "sum = 35\n",
      "product= 660\n"
     ]
    }
   ],
   "source": [
    "n1=int(input(\"enter first number: \"))\n",
    "n2=int(input(\"enter second number: \"))\n",
    "n3=int(input(\"ennter the third number: \"))\n",
    "s=n1+n2+n3\n",
    "p=n1*n2*n3\n",
    "print(\"sum =\",s)\n",
    "print(\"product=\",p)"
   ]
  },
  {
   "cell_type": "markdown",
   "id": "9bf90c07",
   "metadata": {},
   "source": [
    "Write a Python function that takes two lists and returns True if they have at least one common member."
   ]
  },
  {
   "cell_type": "code",
   "execution_count": 3,
   "id": "fbad2de2",
   "metadata": {},
   "outputs": [
    {
     "name": "stdout",
     "output_type": "stream",
     "text": [
      "True\n",
      "None\n"
     ]
    }
   ],
   "source": [
    "def common_data(list1, list2):\n",
    "    result = False  \n",
    "    for x in list1:\n",
    "        for y in list2:\n",
    "            if x == y:\n",
    "                result = True  \n",
    "                return result  \n",
    "print(common_data([1,2,3,4,5], [5,6,7,8,9]))  \n",
    "print(common_data([1,2,3,4,5], [6,7,8,9]))  "
   ]
  },
  {
   "cell_type": "markdown",
   "id": "7ee4405a",
   "metadata": {},
   "source": [
    "Write a Python program to compute the difference between two lists. Sample data: [\"red\", \"orange\", \"green\", \"blue\", \"white\"], [\"black\",\"yellow\",\"green\",\"blue]\n",
    "\n",
    "from collections import Counter"
   ]
  },
  {
   "cell_type": "code",
   "execution_count": 4,
   "id": "ac4112a7",
   "metadata": {},
   "outputs": [
    {
     "name": "stdout",
     "output_type": "stream",
     "text": [
      "Color1-Color2:  ['red', 'orange', 'white']\n",
      "Color2-Color1:  ['black', 'yellow']\n"
     ]
    }
   ],
   "source": [
    "from collections import Counter\n",
    "color1 = [\"red\", \"orange\", \"green\", \"blue\", \"white\"]\n",
    "color2 = [\"black\", \"yellow\", \"green\", \"blue\"]\n",
    "counter1 = Counter(color1)\n",
    "counter2 = Counter(color2)\n",
    "print(\"Color1-Color2: \",list(counter1 - counter2))\n",
    "print(\"Color2-Color1: \",list(counter2 - counter1))\n"
   ]
  }
 ],
 "metadata": {
  "kernelspec": {
   "display_name": "Python 3 (ipykernel)",
   "language": "python",
   "name": "python3"
  },
  "language_info": {
   "codemirror_mode": {
    "name": "ipython",
    "version": 3
   },
   "file_extension": ".py",
   "mimetype": "text/x-python",
   "name": "python",
   "nbconvert_exporter": "python",
   "pygments_lexer": "ipython3",
   "version": "3.9.13"
  }
 },
 "nbformat": 4,
 "nbformat_minor": 5
}
